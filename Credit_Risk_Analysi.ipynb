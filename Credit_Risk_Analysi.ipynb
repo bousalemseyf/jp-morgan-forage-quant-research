{
 "cells": [
  {
   "cell_type": "code",
   "execution_count": 1,
   "id": "05dcf958-8b3b-4830-b0c3-302f65618fbd",
   "metadata": {},
   "outputs": [],
   "source": [
    "# ===============================\n",
    "# 📌 1) Import Libraries\n",
    "# ===============================\n",
    "import pandas as pd\n",
    "from sklearn.model_selection import train_test_split\n",
    "from sklearn.ensemble import RandomForestClassifier\n",
    "from sklearn.metrics import classification_report, accuracy_score\n"
   ]
  },
  {
   "cell_type": "code",
   "execution_count": 3,
   "id": "6dc73170-232b-4d38-8ca2-bfa7e72ad5c0",
   "metadata": {},
   "outputs": [
    {
     "name": "stdout",
     "output_type": "stream",
     "text": [
      "   customer_id  credit_lines_outstanding  loan_amt_outstanding  \\\n",
      "0      8153374                         0           5221.545193   \n",
      "1      7442532                         5           1958.928726   \n",
      "2      2256073                         0           3363.009259   \n",
      "3      4885975                         0           4766.648001   \n",
      "4      4700614                         1           1345.827718   \n",
      "\n",
      "   total_debt_outstanding       income  years_employed  fico_score  default  \n",
      "0             3915.471226  78039.38546               5         605        0  \n",
      "1             8228.752520  26648.43525               2         572        1  \n",
      "2             2027.830850  65866.71246               4         602        0  \n",
      "3             2501.730397  74356.88347               5         612        0  \n",
      "4             1768.826187  23448.32631               6         631        0  \n",
      "<class 'pandas.core.frame.DataFrame'>\n",
      "RangeIndex: 10000 entries, 0 to 9999\n",
      "Data columns (total 8 columns):\n",
      " #   Column                    Non-Null Count  Dtype  \n",
      "---  ------                    --------------  -----  \n",
      " 0   customer_id               10000 non-null  int64  \n",
      " 1   credit_lines_outstanding  10000 non-null  int64  \n",
      " 2   loan_amt_outstanding      10000 non-null  float64\n",
      " 3   total_debt_outstanding    10000 non-null  float64\n",
      " 4   income                    10000 non-null  float64\n",
      " 5   years_employed            10000 non-null  int64  \n",
      " 6   fico_score                10000 non-null  int64  \n",
      " 7   default                   10000 non-null  int64  \n",
      "dtypes: float64(3), int64(5)\n",
      "memory usage: 625.1 KB\n",
      "None\n"
     ]
    }
   ],
   "source": [
    "# ===============================\n",
    "# 📌 2) Load the Loan Data\n",
    "# ===============================\n",
    "df = pd.read_csv(r'C:\\Users\\Lenovo\\Desktop\\jpmorgan\\Task 3 and 4_Loan_Data.csv')\n",
    "\n",
    "print(df.head())\n",
    "print(df.info())\n"
   ]
  },
  {
   "cell_type": "code",
   "execution_count": 5,
   "id": "a2fed78d-886f-42fa-9eb2-9430252fcf35",
   "metadata": {},
   "outputs": [],
   "source": [
    "# ===============================\n",
    "# 📌 3) Prepare Features & Target\n",
    "# ===============================\n",
    "X = df.drop(['customer_id', 'default'], axis=1)\n",
    "y = df['default']\n"
   ]
  },
  {
   "cell_type": "code",
   "execution_count": 7,
   "id": "fdf2060c-c16f-4d9c-b2aa-87e9a9703be1",
   "metadata": {},
   "outputs": [],
   "source": [
    "# ===============================\n",
    "# 📌 4) Split Data\n",
    "# ===============================\n",
    "X_train, X_test, y_train, y_test = train_test_split(X, y, test_size=0.2, random_state=42)\n"
   ]
  },
  {
   "cell_type": "code",
   "execution_count": 9,
   "id": "7cc61bc8-0002-4817-be20-2fdf0fc72761",
   "metadata": {},
   "outputs": [
    {
     "name": "stdout",
     "output_type": "stream",
     "text": [
      "Accuracy: 0.9945\n",
      "\n",
      "Classification Report:\n",
      "               precision    recall  f1-score   support\n",
      "\n",
      "           0       1.00      1.00      1.00      1652\n",
      "           1       0.99      0.98      0.98       348\n",
      "\n",
      "    accuracy                           0.99      2000\n",
      "   macro avg       0.99      0.99      0.99      2000\n",
      "weighted avg       0.99      0.99      0.99      2000\n",
      "\n"
     ]
    }
   ],
   "source": [
    "# ===============================\n",
    "# 📌 5) Train Model\n",
    "# ===============================\n",
    "model = RandomForestClassifier(n_estimators=100, random_state=42)\n",
    "model.fit(X_train, y_train)\n",
    "\n",
    "# Predict and evaluate\n",
    "y_pred = model.predict(X_test)\n",
    "print(\"Accuracy:\", accuracy_score(y_test, y_pred))\n",
    "print(\"\\nClassification Report:\\n\", classification_report(y_test, y_pred))\n"
   ]
  },
  {
   "cell_type": "code",
   "execution_count": 11,
   "id": "ab7d3ac1-d17c-4df3-8a86-70e7c257087b",
   "metadata": {},
   "outputs": [],
   "source": [
    "# ===============================\n",
    "# 📌 6) Function to Estimate PD & Expected Loss\n",
    "# ===============================\n",
    "def estimate_default_risk(loan_details):\n",
    "    \"\"\"\n",
    "    loan_details: dict with feature names & values\n",
    "    \"\"\"\n",
    "    df_input = pd.DataFrame([loan_details])\n",
    "    prob_default = model.predict_proba(df_input)[0][1]\n",
    "    exposure = loan_details['loan_amt_outstanding']\n",
    "    recovery_rate = 0.10  # given\n",
    "    expected_loss = prob_default * exposure * (1 - recovery_rate)\n",
    "    return {\n",
    "        'Probability of Default': round(prob_default, 4),\n",
    "        'Expected Loss': round(expected_loss, 2)\n",
    "    }\n"
   ]
  },
  {
   "cell_type": "code",
   "execution_count": 17,
   "id": "e457e669-7f31-43f4-8bdf-f1a505a35b54",
   "metadata": {},
   "outputs": [
    {
     "name": "stdout",
     "output_type": "stream",
     "text": [
      "Model expects: ['credit_lines_outstanding', 'loan_amt_outstanding', 'total_debt_outstanding', 'income', 'years_employed', 'fico_score']\n",
      "Input keys: ['customer_credit_lines_outstanding', 'loan_amt_outstanding', 'total_debt_outstanding', 'income', 'years_employed', 'fico_score']\n"
     ]
    }
   ],
   "source": [
    "print(\"Model expects:\", list(X.columns))\n",
    "print(\"Input keys:\", list(new_loan.keys()))\n"
   ]
  },
  {
   "cell_type": "code",
   "execution_count": 19,
   "id": "896fc562-22f4-4959-9aa1-b1c7dfbda5b9",
   "metadata": {},
   "outputs": [],
   "source": [
    "def estimate_default_risk(loan_details):\n",
    "    \"\"\"\n",
    "    loan_details: dict with feature names & values\n",
    "    \"\"\"\n",
    "    # Use same columns and order!\n",
    "    df_input = pd.DataFrame([loan_details], columns=X.columns)\n",
    "\n",
    "    prob_default = model.predict_proba(df_input)[0][1]\n",
    "    exposure = loan_details['loan_amt_outstanding']\n",
    "    recovery_rate = 0.10\n",
    "    expected_loss = prob_default * exposure * (1 - recovery_rate)\n",
    "\n",
    "    return {\n",
    "        'Probability of Default': round(prob_default, 4),\n",
    "        'Expected Loss': round(expected_loss, 2)\n",
    "    }\n"
   ]
  },
  {
   "cell_type": "code",
   "execution_count": 21,
   "id": "4eb8ca50-e273-4e96-be92-70d1ea60a090",
   "metadata": {},
   "outputs": [],
   "source": [
    "def estimate_default_risk(loan_details):\n",
    "    \"\"\"\n",
    "    loan_details: dict with feature names & values\n",
    "    \"\"\"\n",
    "    # Use same columns and order!\n",
    "    df_input = pd.DataFrame([loan_details], columns=X.columns)\n",
    "\n",
    "    prob_default = model.predict_proba(df_input)[0][1]\n",
    "    exposure = loan_details['loan_amt_outstanding']\n",
    "    recovery_rate = 0.10\n",
    "    expected_loss = prob_default * exposure * (1 - recovery_rate)\n",
    "\n",
    "    return {\n",
    "        'Probability of Default': round(prob_default, 4),\n",
    "        'Expected Loss': round(expected_loss, 2)\n",
    "    }\n"
   ]
  },
  {
   "cell_type": "code",
   "execution_count": 23,
   "id": "31d281a0-7604-4443-a2d7-1fac3b4f537b",
   "metadata": {},
   "outputs": [
    {
     "name": "stdout",
     "output_type": "stream",
     "text": [
      "{'Probability of Default': 0.14, 'Expected Loss': 630.0}\n"
     ]
    }
   ],
   "source": [
    "new_loan = {\n",
    "    'credit_lines_outstanding': 2,  # ✅ match exactly!\n",
    "    'loan_amt_outstanding': 5000,\n",
    "    'total_debt_outstanding': 25000,\n",
    "    'income': 75000,\n",
    "    'years_employed': 5,\n",
    "    'fico_score': 650\n",
    "}\n",
    "\n",
    "result = estimate_default_risk(new_loan)\n",
    "print(result)\n"
   ]
  },
  {
   "cell_type": "code",
   "execution_count": null,
   "id": "01f42765-62c0-48f6-bf22-69fa436d52c8",
   "metadata": {},
   "outputs": [],
   "source": []
  }
 ],
 "metadata": {
  "kernelspec": {
   "display_name": "Python 3 (ipykernel)",
   "language": "python",
   "name": "python3"
  },
  "language_info": {
   "codemirror_mode": {
    "name": "ipython",
    "version": 3
   },
   "file_extension": ".py",
   "mimetype": "text/x-python",
   "name": "python",
   "nbconvert_exporter": "python",
   "pygments_lexer": "ipython3",
   "version": "3.12.4"
  }
 },
 "nbformat": 4,
 "nbformat_minor": 5
}
